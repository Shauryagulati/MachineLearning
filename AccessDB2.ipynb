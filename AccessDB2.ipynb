{
  "nbformat": 4,
  "nbformat_minor": 0,
  "metadata": {
    "kernelspec": {
      "display_name": "Python 3",
      "language": "python",
      "name": "python3"
    },
    "language_info": {
      "codemirror_mode": {
        "name": "ipython",
        "version": 3
      },
      "file_extension": ".py",
      "mimetype": "text/x-python",
      "name": "python",
      "nbconvert_exporter": "python",
      "pygments_lexer": "ipython3",
      "version": "3.7.6"
    },
    "colab": {
      "name": "AccessDB2",
      "provenance": []
    }
  },
  "cells": [
    {
      "cell_type": "markdown",
      "metadata": {
        "id": "Y3Nb6iBJrEEl"
      },
      "source": [
        "<center>\n",
        "    <img src=\"https://s3-api.us-geo.objectstorage.softlayer.net/cf-courses-data/CognitiveClass/Logos/organization_logo/organization_logo.png\" width=\"300\" alt=\"cognitiveclass.ai logo\"  />\n",
        "</center>\n",
        "\n",
        "# Access DB2 on Cloud using Python\n",
        "\n",
        "Estimated time needed: **15** minutes\n",
        "\n",
        "## Objectives\n",
        "\n",
        "After completing this lab you will be able to:\n",
        "\n",
        "*   Create a table\n",
        "*   Insert data into the table\n",
        "*   Query data from the table\n",
        "*   Retrieve the result set into a pandas dataframe\n",
        "*   Close the database connection\n"
      ]
    },
    {
      "cell_type": "markdown",
      "metadata": {
        "id": "d-B3z7X5rEEm"
      },
      "source": [
        "**Notice:** Please follow the instructions given in the first Lab of this course to Create a database service instance of Db2 on Cloud.\n",
        "\n",
        "## Task 1: Import the `ibm_db` Python library\n",
        "\n",
        "The `ibm_db` [API ](https://pypi.python.org/pypi/ibm_db/?utm_medium=Exinfluencer\\&utm_source=Exinfluencer\\&utm_content=000026UJ\\&utm_term=10006555\\&utm_id=NA-SkillsNetwork-Channel-SkillsNetworkCoursesIBMDeveloperSkillsNetworkDB0201ENSkillsNetwork20127838-2021-01-01) provides a variety of useful Python functions for accessing and manipulating data in an IBM® data server database, including functions for connecting to a database, preparing and issuing SQL statements, fetching rows from result sets, calling stored procedures, committing and rolling back transactions, handling errors, and retrieving metadata.\n",
        "\n",
        "We import the ibm_db library into our Python Application\n"
      ]
    },
    {
      "cell_type": "code",
      "metadata": {
        "colab": {
          "base_uri": "https://localhost:8080/"
        },
        "id": "S3hQLOPcu1pd",
        "outputId": "9734bb9d-556e-478b-941e-b83c62b5ac2e"
      },
      "source": [
        "pip install ibm_db"
      ],
      "execution_count": null,
      "outputs": [
        {
          "output_type": "stream",
          "text": [
            "Collecting ibm_db\n",
            "\u001b[?25l  Downloading https://files.pythonhosted.org/packages/dc/7c/26c1eb0ce78689a6a6775337b43f498f8e901790ec0bafd6f24e2ef594af/ibm_db-3.0.4.tar.gz (796kB)\n",
            "\u001b[K     |████████████████████████████████| 798kB 5.1MB/s \n",
            "\u001b[?25hBuilding wheels for collected packages: ibm-db\n",
            "  Building wheel for ibm-db (setup.py) ... \u001b[?25l\u001b[?25hdone\n",
            "  Created wheel for ibm-db: filename=ibm_db-3.0.4-cp37-cp37m-linux_x86_64.whl size=40999814 sha256=8c3f56ee04aba0d36af32a63543bc745a2686792974b73d918665261747321e4\n",
            "  Stored in directory: /root/.cache/pip/wheels/d9/85/7a/07dd5eba2f2d6a040be8aefb2b5051b0408c7f997259b5756b\n",
            "Successfully built ibm-db\n",
            "Installing collected packages: ibm-db\n",
            "Successfully installed ibm-db-3.0.4\n"
          ],
          "name": "stdout"
        }
      ]
    },
    {
      "cell_type": "code",
      "metadata": {
        "collapsed": true,
        "id": "ksWwWO6irEEm"
      },
      "source": [
        "import ibm_db"
      ],
      "execution_count": null,
      "outputs": []
    },
    {
      "cell_type": "markdown",
      "metadata": {
        "id": "lEAsFfVprEEn"
      },
      "source": [
        "When the command above completes, the `ibm_db` library is loaded in your notebook.\n",
        "\n",
        "## Task 2: Identify the database connection credentials\n",
        "\n",
        "Connecting to dashDB or DB2 database requires the following information:\n",
        "\n",
        "*   Driver Name\n",
        "*   Database name\n",
        "*   Host DNS name or IP address\n",
        "*   Host port\n",
        "*   Connection protocol\n",
        "*   User ID\n",
        "*   User Password\n",
        "\n",
        "**Notice:** To obtain credentials please refer to the instructions given in the first Lab of this course\n",
        "\n",
        "Now enter your database credentials below\n",
        "\n",
        "Replace the placeholder values in angular brackets <> below with your actual database credentials\n",
        "\n",
        "e.g. replace \"database\" with \"BLUDB\"\n"
      ]
    },
    {
      "cell_type": "code",
      "metadata": {
        "collapsed": true,
        "id": "X83cKeOsrEEn"
      },
      "source": [
        "#Replace the placeholder values with the actuals for your Db2 Service Credentials\n",
        "dsn_driver = \"{IBM DB2 ODBC DRIVER}\"\n",
        "dsn_database = \"BLUDB\"            # e.g. \"BLUDB\"\n",
        "dsn_hostname = \"54a2f15b-5c0f-46df-8954-7e38e612c2bd.c1ogj3sd0tgtu0lqde00.databases.appdomain.cloud\"            # e.g.: \"dashdb-txn-sbox-yp-dal09-04.services.dal.bluemix.net\"\n",
        "dsn_port = \"32733\"                    # e.g. \"50000\" \n",
        "dsn_protocol = \"protocol\"            # i.e. \"TCPIP\"\n",
        "dsn_uid = \"vwf48283\"                 # e.g. \"abc12345\"\n",
        "dsn_pwd = \"5ANvXN2idxH8Y5Fo\"                 # e.g. \"7dBZ3wWt9XN6$o0J\"\n",
        "dsn_security = \"SSL\"              #i.e. \"SSL\""
      ],
      "execution_count": null,
      "outputs": []
    },
    {
      "cell_type": "markdown",
      "metadata": {
        "id": "IHM9dqpsrEEn"
      },
      "source": [
        "## Task 3: Create the database connection\n",
        "\n",
        "Ibm_db API uses the IBM Data Server Driver for ODBC and CLI APIs to connect to IBM DB2 and Informix.\n",
        "\n",
        "Create the database connection\n"
      ]
    },
    {
      "cell_type": "code",
      "metadata": {
        "id": "YH_XN_CwrEEn",
        "colab": {
          "base_uri": "https://localhost:8080/"
        },
        "outputId": "08cf63a1-1161-4eac-ead2-74c32db34808"
      },
      "source": [
        "#Create database connection\n",
        "#DO NOT MODIFY THIS CELL. Just RUN it with Shift + Enter\n",
        "dsn = (\n",
        "    \"DRIVER={0};\"\n",
        "    \"DATABASE={1};\"\n",
        "    \"HOSTNAME={2};\"\n",
        "    \"PORT={3};\"\n",
        "    \"PROTOCOL={4};\"\n",
        "    \"UID={5};\"\n",
        "    \"PWD={6};\"\n",
        "    \"SECURITY={7};\").format(dsn_driver, dsn_database, dsn_hostname, dsn_port, dsn_protocol, dsn_uid, dsn_pwd,dsn_security)\n",
        "\n",
        "try:\n",
        "    conn = ibm_db.connect(dsn, \"bludb\", \"\")\n",
        "    print (\"Connected to database: \", dsn_database, \"as user: \", dsn_uid, \"on host: \", dsn_hostname)\n",
        "\n",
        "except:\n",
        "    print (\"Unable to connect: \", ibm_db.conn_errormsg() )\n"
      ],
      "execution_count": null,
      "outputs": [
        {
          "output_type": "stream",
          "text": [
            "Unable to connect:  [IBM][CLI Driver] SQL1013N  The database alias name or database name \"\" could not be found.  SQLSTATE=42705 SQLCODE=-1013\n"
          ],
          "name": "stdout"
        }
      ]
    },
    {
      "cell_type": "markdown",
      "metadata": {
        "id": "ehoNyb2orEEn"
      },
      "source": [
        "## Task 4: Create a table in the database\n",
        "\n",
        "In this step we will create a table in the database with following details:\n",
        "\n",
        "<img src = \"https://ibm.box.com/shared/static/ztd2cn4xkdoj5erlk4hhng39kbp63s1h.jpg\" align=\"center\">\n"
      ]
    },
    {
      "cell_type": "code",
      "metadata": {
        "id": "skOxDLtErEEn"
      },
      "source": [
        "#Lets first drop the table INSTRUCTOR in case it exists from a previous attempt\n",
        "dropQuery = \"drop table INSTRUCTOR\"\n",
        "\n",
        "#Now execute the drop statment\n",
        "dropStmt = ibm_db.exec_immediate(conn, dropQuery)"
      ],
      "execution_count": null,
      "outputs": []
    },
    {
      "cell_type": "markdown",
      "metadata": {
        "id": "79UIGSdVrEEo"
      },
      "source": [
        "## Dont worry if you get this error:\n",
        "\n",
        "If you see an exception/error similar to the following, indicating that INSTRUCTOR is an undefined name, that's okay. It just implies that the INSTRUCTOR table does not exist in the table - which would be the case if you had not created it previously.\n",
        "\n",
        "Exception: \\[IBM]\\[CLI Driver]\\[DB2/LINUXX8664] SQL0204N  \"ABC12345.INSTRUCTOR\" is an undefined name.  SQLSTATE=42704 SQLCODE=-204\n"
      ]
    },
    {
      "cell_type": "code",
      "metadata": {
        "id": "EldVZmS_rEEo"
      },
      "source": [
        "#Construct the Create Table DDL statement - replace the ... with rest of the statement\n",
        "createQuery = \"create table INSTRUCTOR(id INTEGER PRIMARY KEY NOT NULL, fname ...)\"\n",
        "\n",
        "#Now fill in the name of the method and execute the statement\n",
        "createStmt = ibm_db.replace_with_name_of_execution_method(conn, createQuery)"
      ],
      "execution_count": null,
      "outputs": []
    },
    {
      "cell_type": "markdown",
      "metadata": {
        "id": "x3lm7s_3rEEo"
      },
      "source": [
        "<details><summary>Click here for the solution</summary>\n",
        "\n",
        "```python\n",
        "createQuery = \"create table INSTRUCTOR(ID INTEGER PRIMARY KEY NOT NULL, FNAME VARCHAR(20), LNAME VARCHAR(20), CITY VARCHAR(20), CCODE CHAR(2))\"\n",
        "\n",
        "createStmt = ibm_db.exec_immediate(conn,createQuery)\n",
        "```\n",
        "\n",
        "</details>\n"
      ]
    },
    {
      "cell_type": "markdown",
      "metadata": {
        "id": "Ev9Y17iprEEo"
      },
      "source": [
        "## Task 5: Insert data into the table\n",
        "\n",
        "In this step we will insert some rows of data into the table.\n",
        "\n",
        "The INSTRUCTOR table we created in the previous step contains 3 rows of data:\n",
        "\n",
        "<img src=\"https://ibm.box.com/shared/static/j5yjassxefrjknivfpekj7698dqe4d8i.jpg\" align=\"center\">\n",
        "\n",
        "We will start by inserting just the first row of data, i.e. for instructor Rav Ahuja\n"
      ]
    },
    {
      "cell_type": "code",
      "metadata": {
        "id": "hgnHf-z9rEEo"
      },
      "source": [
        "#Construct the query - replace ... with the insert statement\n",
        "insertQuery = \"...\"\n",
        "\n",
        "#execute the insert statement\n",
        "insertStmt = ibm_db.exec_immediate(conn, insertQuery)"
      ],
      "execution_count": null,
      "outputs": []
    },
    {
      "cell_type": "markdown",
      "metadata": {
        "id": "sO8k2o-grEEo"
      },
      "source": [
        "<details><summary>Click here for the solution</summary>\n",
        "\n",
        "```python\n",
        "insertQuery = \"insert into INSTRUCTOR values (1, 'Rav', 'Ahuja', 'TORONTO', 'CA')\"\n",
        "\n",
        "insertStmt = ibm_db.exec_immediate(conn, insertQuery)\n",
        "```\n",
        "\n",
        "</details>\n"
      ]
    },
    {
      "cell_type": "markdown",
      "metadata": {
        "id": "WfC57ajbrEEp"
      },
      "source": [
        "Now use a single query to insert the remaining two rows of data\n"
      ]
    },
    {
      "cell_type": "code",
      "metadata": {
        "id": "TVaosRNgrEEp"
      },
      "source": [
        "#replace ... with the insert statement that inerts the remaining two rows of data\n",
        "insertQuery2 = \"...\"\n",
        "\n",
        "#execute the statement\n",
        "insertStmt2 = ibm_db.exec_immediate(conn, insertQuery2)"
      ],
      "execution_count": null,
      "outputs": []
    },
    {
      "cell_type": "markdown",
      "metadata": {
        "id": "9LmSrlK3rEEp"
      },
      "source": [
        "<details><summary>Click here for the solution</summary>\n",
        "\n",
        "```python\n",
        "insertQuery2 = \"insert into INSTRUCTOR values (2, 'Raul', 'Chong', 'Markham', 'CA'), (3, 'Hima', 'Vasudevan', 'Chicago', 'US')\"\n",
        "\n",
        "insertStmt2 = ibm_db.exec_immediate(conn, insertQuery2)\n",
        "\n",
        "```\n",
        "\n",
        "</details>\n"
      ]
    },
    {
      "cell_type": "markdown",
      "metadata": {
        "id": "PJtczW2rrEEp"
      },
      "source": [
        "## Task 6: Query data in the table\n",
        "\n",
        "In this step we will retrieve data we inserted into the INSTRUCTOR table.\n"
      ]
    },
    {
      "cell_type": "code",
      "metadata": {
        "id": "sXZUQAI8rEEp"
      },
      "source": [
        "#Construct the query that retrieves all rows from the INSTRUCTOR table\n",
        "selectQuery = \"select * from INSTRUCTOR\"\n",
        "\n",
        "#Execute the statement\n",
        "selectStmt = ibm_db.exec_immediate(conn, selectQuery)\n",
        "\n",
        "#Fetch the Dictionary (for the first row only) - replace ... with your code\n",
        "..."
      ],
      "execution_count": null,
      "outputs": []
    },
    {
      "cell_type": "markdown",
      "metadata": {
        "id": "i-AZkG9srEEp"
      },
      "source": [
        "<details><summary>Click here for the solution</summary>\n",
        "\n",
        "```python\n",
        "#Construct the query that retrieves all rows from the INSTRUCTOR table\n",
        "selectQuery = \"select * from INSTRUCTOR\"\n",
        "\n",
        "#Execute the statement\n",
        "selectStmt = ibm_db.exec_immediate(conn, selectQuery)\n",
        "\n",
        "#Fetch the Dictionary (for the first row only)\n",
        "ibm_db.fetch_both(selectStmt)\n",
        "\n",
        "```\n",
        "\n",
        "</details>\n"
      ]
    },
    {
      "cell_type": "code",
      "metadata": {
        "id": "ow-UF1C2rEEp"
      },
      "source": [
        "#Fetch the rest of the rows and print the ID and FNAME for those rows\n",
        "while ibm_db.fetch_row(selectStmt) != False:\n",
        "   print (\" ID:\",  ibm_db.result(selectStmt, 0), \" FNAME:\",  ibm_db.result(selectStmt, \"FNAME\"))"
      ],
      "execution_count": null,
      "outputs": []
    },
    {
      "cell_type": "markdown",
      "metadata": {
        "id": "qi2r9Hg5rEEp"
      },
      "source": [
        "<details><summary>Click here for the solution</summary>\n",
        "\n",
        "```python\n",
        "#Fetch the rest of the rows and print the ID and FNAME for those rows\n",
        "while ibm_db.fetch_row(selectStmt) != False:\n",
        "    print (\" ID:\",  ibm_db.result(selectStmt, 0), \" FNAME:\",  ibm_db.result(selectStmt, \"FNAME\"))\n",
        "\n",
        "```\n",
        "\n",
        "</details>\n"
      ]
    },
    {
      "cell_type": "markdown",
      "metadata": {
        "id": "cGmMUikXrEEp"
      },
      "source": [
        "Bonus: now write and execute an update statement that changes the Rav's CITY to MOOSETOWN\n"
      ]
    },
    {
      "cell_type": "code",
      "metadata": {
        "id": "sqcZwBewrEEq"
      },
      "source": [
        "#Enter your code below\n"
      ],
      "execution_count": null,
      "outputs": []
    },
    {
      "cell_type": "markdown",
      "metadata": {
        "id": "7R0drgMVrEEq"
      },
      "source": [
        "<details><summary>Click here for the solution</summary>\n",
        "\n",
        "```python\n",
        "updateQuery = \"update INSTRUCTOR set CITY='MOOSETOWN' where FNAME='Rav'\"\n",
        "updateStmt = ibm_db.exec_immediate(conn, updateQuery))\n",
        "\n",
        "```\n",
        "\n",
        "</details>\n"
      ]
    },
    {
      "cell_type": "markdown",
      "metadata": {
        "id": "WQfDeLocrEEq"
      },
      "source": [
        "## Task 7: Retrieve data into Pandas\n",
        "\n",
        "In this step we will retrieve the contents of the INSTRUCTOR table into a Pandas dataframe\n"
      ]
    },
    {
      "cell_type": "code",
      "metadata": {
        "collapsed": true,
        "id": "QCye9S_4rEEq"
      },
      "source": [
        "import pandas\n",
        "import ibm_db_dbi"
      ],
      "execution_count": null,
      "outputs": []
    },
    {
      "cell_type": "code",
      "metadata": {
        "collapsed": true,
        "id": "n0Pfles6rEEq"
      },
      "source": [
        "#connection for pandas\n",
        "pconn = ibm_db_dbi.Connection(conn)"
      ],
      "execution_count": null,
      "outputs": []
    },
    {
      "cell_type": "code",
      "metadata": {
        "id": "SzClvQS0rEEq"
      },
      "source": [
        "#query statement to retrieve all rows in INSTRUCTOR table\n",
        "selectQuery = \"select * from INSTRUCTOR\"\n",
        "\n",
        "#retrieve the query results into a pandas dataframe\n",
        "pdf = pandas.read_sql(selectQuery, pconn)\n",
        "\n",
        "#print just the LNAME for first row in the pandas data frame\n",
        "pdf.LNAME[0]"
      ],
      "execution_count": null,
      "outputs": []
    },
    {
      "cell_type": "code",
      "metadata": {
        "id": "UJ6VIRoYrEEq"
      },
      "source": [
        "#print the entire data frame\n",
        "pdf"
      ],
      "execution_count": null,
      "outputs": []
    },
    {
      "cell_type": "markdown",
      "metadata": {
        "id": "XcblUw9ErEEq"
      },
      "source": [
        "Once the data is in a Pandas dataframe, you can do the typical pandas operations on it.\n",
        "\n",
        "For example you can use the shape method to see how many rows and columns are in the dataframe\n"
      ]
    },
    {
      "cell_type": "code",
      "metadata": {
        "id": "bTHmCbsBrEEq"
      },
      "source": [
        "pdf.shape"
      ],
      "execution_count": null,
      "outputs": []
    },
    {
      "cell_type": "markdown",
      "metadata": {
        "id": "T-0GIRnArEEq"
      },
      "source": [
        "## Task 8: Close the Connection\n",
        "\n",
        "We free all resources by closing the connection. Remember that it is always important to close connections so that we can avoid unused connections taking up resources.\n"
      ]
    },
    {
      "cell_type": "code",
      "metadata": {
        "id": "r03rbqCfrEEq"
      },
      "source": [
        "ibm_db.close(conn)"
      ],
      "execution_count": null,
      "outputs": []
    },
    {
      "cell_type": "markdown",
      "metadata": {
        "id": "F7M1xQ6BrEEq"
      },
      "source": [
        "## Summary\n",
        "\n",
        "In this tutorial you established a connection to a database instance of DB2 Warehouse on Cloud from a Python notebook using ibm_db API. Then created a table and insert a few rows of data into it. Then queried the data. You also retrieved the data into a pandas dataframe.\n"
      ]
    },
    {
      "cell_type": "markdown",
      "metadata": {
        "id": "7UQ94EfGrEEq"
      },
      "source": [
        "## Author\n",
        "\n",
        "<a href=\"https://www.linkedin.com/in/ravahuja/?utm_medium=Exinfluencer&utm_source=Exinfluencer&utm_content=000026UJ&utm_term=10006555&utm_id=NA-SkillsNetwork-Channel-SkillsNetworkCoursesIBMDeveloperSkillsNetworkDB0201ENSkillsNetwork20127838-2021-01-01\" target=\"_blank\">Rav Ahuja</a>\n",
        "\n",
        "## Change Log\n",
        "\n",
        "|  Date (YYYY-MM-DD) |  Version | Changed By  |  Change Description |\n",
        "|---|---|---|---|\n",
        "| 2021-07-09  | 2.1  | Malika   | Updated connection string   |\n",
        "| 2020-08-28  | 2.0  | Lavanya  |  Moved lab to course repo in GitLab |\n",
        "\n",
        "<hr>\n",
        "\n",
        "## <h3 align=\"center\"> © IBM Corporation 2020. All rights reserved. <h3/>\n"
      ]
    }
  ]
}